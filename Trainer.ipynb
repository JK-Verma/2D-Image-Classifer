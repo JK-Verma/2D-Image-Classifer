{
 "cells": [
  {
   "cell_type": "markdown",
   "metadata": {},
   "source": [
    "## Alliance Against 3D Printed Guns"
   ]
  },
  {
   "cell_type": "markdown",
   "metadata": {},
   "source": [
    "We are an alliance of global developers, hackers, data scientists, professors and general modern technology experts. We believe that legal 3D printed guns pose a threat to the people around the world and are working on open source Artificial Intelligence and 3D Printing technologies to help parents protect their children whilst they use the internet and assist website owners classify & remove unwanted gun designs from their websites.\n",
    "\n",
    "Through the use of Artificial Intelligence we will provide free tools, services and source codes to those who want to protect themselves and the people around them from the dangers of open source 3D weapons."
   ]
  },
  {
   "cell_type": "markdown",
   "metadata": {},
   "source": [
    "# Create trainer job"
   ]
  },
  {
   "cell_type": "markdown",
   "metadata": {},
   "source": [
    "The first step is to create a script that can be used to create a job on the A.I. DevCloud for training a Covolutional Neural Network created with Caffe. \n",
    "\n",
    "Before you run the following block make sure you have followed all of the steps at the beginning of the README file in the home directory of this project."
   ]
  },
  {
   "cell_type": "code",
   "execution_count": 1,
   "metadata": {},
   "outputs": [
    {
     "name": "stdout",
     "output_type": "stream",
     "text": [
      "Writing AA3PG-Trainer\n"
     ]
    }
   ],
   "source": [
    "%%writefile AA3PG-Trainer\n",
    "cd $PBS_O_WORKDIR\n",
    "echo \"* Hello world from compute server `hostname` on the A.I. DevCloud!\"\n",
    "echo \"* The current directory is ${PWD}.\"\n",
    "echo \"* Compute server's CPU model and number of logical CPUs:\"\n",
    "lscpu | grep 'Model name\\\\|^CPU(s)'\n",
    "echo \"* Python available to us:\"\n",
    "export PATH=/glob/intel-python/python3/bin:$PATH;\n",
    "which python\n",
    "python --version \n",
    "echo \"* Starting AA3PG-Trainer job\"\n",
    "echo \"* This job trains the AA3PG 2D Image Classifier on the Colfax Cluster\"\n",
    "python Train.py\n",
    "sleep 10\n",
    "echo \"*Adios\"\n",
    "# Remember to have an empty line at the end of the file; otherwise the last command will not run\n"
   ]
  },
  {
   "cell_type": "markdown",
   "metadata": {},
   "source": [
    "# Check the job script was created"
   ]
  },
  {
   "cell_type": "markdown",
   "metadata": {},
   "source": [
    "Now check that the job script was created successfully by executing the following block which will print out the files located in the current directory. If all was successful, you should see the file \"AA3PG-Trainer\". You can also open this file to confirm that the contents are correct."
   ]
  },
  {
   "cell_type": "code",
   "execution_count": 2,
   "metadata": {},
   "outputs": [
    {
     "name": "stdout",
     "output_type": "stream",
     "text": [
      "AA3PG-Trainer  \u001b[0m\u001b[01;34mdata\u001b[0m/  Trainer.ipynb  Train.py\r\n"
     ]
    }
   ],
   "source": [
    "%ls"
   ]
  },
  {
   "cell_type": "markdown",
   "metadata": {},
   "source": [
    "# Submit the job script"
   ]
  },
  {
   "cell_type": "markdown",
   "metadata": {},
   "source": [
    "Now it is time to submit your training job script, this will queue the training script ready for execution and return your job ID. In this command we set the walltime to 24 hours, which should give our script enough time to fully complete without getting killed. "
   ]
  },
  {
   "cell_type": "code",
   "execution_count": 3,
   "metadata": {},
   "outputs": [
    {
     "name": "stdout",
     "output_type": "stream",
     "text": [
      "137316.c009\r\n"
     ]
    }
   ],
   "source": [
    "!qsub -l walltime=24:00:00 AA3PG-Trainer"
   ]
  },
  {
   "cell_type": "markdown",
   "metadata": {},
   "source": [
    "# Check the status of the job"
   ]
  },
  {
   "cell_type": "markdown",
   "metadata": {},
   "source": [
    "Now you can monitor the status of the job by executing the following block. You may need to do this a number of times before the job completes. \n",
    "\n",
    "JOB STATUSES\n",
    "\n",
    "R: Running  \n",
    "Q: Waiting in queue"
   ]
  },
  {
   "cell_type": "code",
   "execution_count": 4,
   "metadata": {},
   "outputs": [
    {
     "name": "stdout",
     "output_type": "stream",
     "text": [
      "Job ID                    Name             User            Time Use S Queue\r\n",
      "------------------------- ---------------- --------------- -------- - -----\r\n",
      "137314.c009                ...ub-singleuser u13339          00:00:01 R jupyterhub     \r\n",
      "137316.c009                AA3PG-Trainer    u13339                 0 R batch          \r\n"
     ]
    }
   ],
   "source": [
    "!qstat"
   ]
  },
  {
   "cell_type": "markdown",
   "metadata": {},
   "source": [
    "You can also get a full list of stats for the job by executing the following block, replacing the ID with your job ID:"
   ]
  },
  {
   "cell_type": "code",
   "execution_count": 5,
   "metadata": {},
   "outputs": [
    {
     "name": "stdout",
     "output_type": "stream",
     "text": [
      "Job Id: 137316.c009\r\n",
      "    Job_Name = AA3PG-Trainer\r\n",
      "    Job_Owner = u13339@c009-n009\r\n",
      "    job_state = R\r\n",
      "    queue = batch\r\n",
      "    server = c009\r\n",
      "    Checkpoint = u\r\n",
      "    ctime = Sat Aug  4 04:54:10 2018\r\n",
      "    Error_Path = c009-n009:/home/u13339/AA3PG/AA3PG-Trainer.e137316\r\n",
      "    exec_host = c009-n015/0-1\r\n",
      "    Hold_Types = n\r\n",
      "    Join_Path = n\r\n",
      "    Keep_Files = n\r\n",
      "    Mail_Points = n\r\n",
      "    mtime = Sat Aug  4 04:54:11 2018\r\n",
      "    Output_Path = c009-n009:/home/u13339/AA3PG/AA3PG-Trainer.o137316\r\n",
      "    Priority = 0\r\n",
      "    qtime = Sat Aug  4 04:54:10 2018\r\n",
      "    Rerunable = True\r\n",
      "    Resource_List.nodect = 1\r\n",
      "    Resource_List.nodes = 1:ppn=2\r\n",
      "    Resource_List.walltime = 24:00:00\r\n",
      "    session_id = 159340\r\n",
      "    Variable_List = PBS_O_QUEUE=batch,PBS_O_HOME=/home/u13339,\r\n",
      "\tPBS_O_LOGNAME=u13339,\r\n",
      "\tPBS_O_PATH=/glob/intel-python/python3/bin/:/glob/intel-python/python3\r\n",
      "\t/bin/:/glob/intel-python/python2/bin/:/glob/development-tools/versions\r\n",
      "\t/intel-parallel-studio-2018-update3/compilers_and_libraries_2018.3.222\r\n",
      "\t/linux/bin/intel64:/glob/development-tools/versions/intel-parallel-stu\r\n",
      "\tdio-2018-update3/compilers_and_libraries_2018.3.222/linux/mpi/intel64/\r\n",
      "\tbin:/glob/intel-python/python3/bin/:/glob/intel-python/python2/bin/:/g\r\n",
      "\tlob/development-tools/versions/intel-parallel-studio-2018-update3/comp\r\n",
      "\tilers_and_libraries_2018.3.222/linux/bin/intel64:/glob/development-too\r\n",
      "\tls/versions/intel-parallel-studio-2018-update3/compilers_and_libraries\r\n",
      "\t_2018.3.222/linux/mpi/intel64/bin:/sbin:/bin:/usr/sbin:/usr/bin:/usr/l\r\n",
      "\tocal/sbin:/home/u13339/.local/bin:/home/u13339/bin:/home/u13339/.local\r\n",
      "\t/bin:/home/u13339/bin:/usr/local/bin,\r\n",
      "\tPBS_O_MAIL=/var/spool/mail/u13339,PBS_O_SHELL=/bin/bash,\r\n",
      "\tPBS_O_LANG=en_US.UTF-8,\r\n",
      "\tPBS_O_SUBMIT_FILTER=/usr/local/sbin/torque_submitfilter,\r\n",
      "\tPBS_O_WORKDIR=/home/u13339/AA3PG,PBS_O_HOST=c009-n009,\r\n",
      "\tPBS_O_SERVER=c009\r\n",
      "    euser = u13339\r\n",
      "    egroup = u13339\r\n",
      "    queue_type = E\r\n",
      "    etime = Sat Aug  4 04:54:10 2018\r\n",
      "    submit_args = -l walltime=24:00:00 AA3PG-Trainer\r\n",
      "    start_time = Sat Aug  4 04:54:11 2018\r\n",
      "    Walltime.Remaining = 86392\r\n",
      "    start_count = 1\r\n",
      "    fault_tolerant = False\r\n",
      "    job_radix = 0\r\n",
      "    submit_host = c009-n009\r\n",
      "\r\n"
     ]
    }
   ],
   "source": [
    "!qstat -f 137316"
   ]
  },
  {
   "cell_type": "markdown",
   "metadata": {},
   "source": [
    "# Check error and output files"
   ]
  },
  {
   "cell_type": "markdown",
   "metadata": {},
   "source": [
    "After the above job finished you will see two files in your current directory, as the job ID in my case was 137316, my error file ends with e137316 and my output file ends with o137316. In this case the error file contained a FutureWarning. The output will show you the full output of your program."
   ]
  },
  {
   "cell_type": "code",
   "execution_count": 10,
   "metadata": {},
   "outputs": [
    {
     "name": "stdout",
     "output_type": "stream",
     "text": [
      "AA3PG-Trainer          AA3PG-Trainer.o137316  Trainer.ipynb\r\n",
      "AA3PG-Trainer.e137316  \u001b[0m\u001b[01;34mdata\u001b[0m/                  Train.py\r\n"
     ]
    }
   ],
   "source": [
    "%ls"
   ]
  },
  {
   "cell_type": "code",
   "execution_count": null,
   "metadata": {},
   "outputs": [],
   "source": []
  },
  {
   "cell_type": "code",
   "execution_count": null,
   "metadata": {},
   "outputs": [],
   "source": []
  }
 ],
 "metadata": {
  "kernelspec": {
   "display_name": "Python 3 (Intel, 2018 update 2)",
   "language": "python",
   "name": "intel_distribution_of_python_3_2018u2"
  },
  "language_info": {
   "codemirror_mode": {
    "name": "ipython",
    "version": 3
   },
   "file_extension": ".py",
   "mimetype": "text/x-python",
   "name": "python",
   "nbconvert_exporter": "python",
   "pygments_lexer": "ipython3",
   "version": "3.6.3"
  }
 },
 "nbformat": 4,
 "nbformat_minor": 2
}
